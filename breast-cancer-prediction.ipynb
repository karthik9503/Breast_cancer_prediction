{
 "cells": [
  {
   "cell_type": "code",
   "execution_count": 1,
   "id": "e694a88a",
   "metadata": {
    "execution": {
     "iopub.execute_input": "2022-09-22T13:09:06.639754Z",
     "iopub.status.busy": "2022-09-22T13:09:06.638441Z",
     "iopub.status.idle": "2022-09-22T13:09:08.105566Z",
     "shell.execute_reply": "2022-09-22T13:09:08.104234Z"
    },
    "papermill": {
     "duration": 1.477235,
     "end_time": "2022-09-22T13:09:08.109118",
     "exception": false,
     "start_time": "2022-09-22T13:09:06.631883",
     "status": "completed"
    },
    "tags": []
   },
   "outputs": [],
   "source": [
    "#Importing Various Libraries ,models,metrics ,model_selection \n",
    "\n",
    "\n",
    "from sklearn.ensemble import RandomForestClassifier\n",
    "from sklearn.discriminant_analysis import LinearDiscriminantAnalysis\n",
    "from sklearn.linear_model import LogisticRegression\n",
    "from sklearn.tree import DecisionTreeClassifier\n",
    "from sklearn.neighbors import KNeighborsClassifier\n",
    "from sklearn.naive_bayes import GaussianNB\n",
    "from sklearn.svm import SVC\n",
    "from sklearn.model_selection import train_test_split,GridSearchCV,RandomizedSearchCV\n",
    "from sklearn.preprocessing import StandardScaler,MinMaxScaler\n"
   ]
  },
  {
   "cell_type": "code",
   "execution_count": 2,
   "id": "76e2b3ae",
   "metadata": {
    "execution": {
     "iopub.execute_input": "2022-09-22T13:09:08.119198Z",
     "iopub.status.busy": "2022-09-22T13:09:08.118770Z",
     "iopub.status.idle": "2022-09-22T13:09:08.387682Z",
     "shell.execute_reply": "2022-09-22T13:09:08.386487Z"
    },
    "papermill": {
     "duration": 0.277449,
     "end_time": "2022-09-22T13:09:08.390988",
     "exception": false,
     "start_time": "2022-09-22T13:09:08.113539",
     "status": "completed"
    },
    "tags": []
   },
   "outputs": [
    {
     "data": {
      "text/html": [
       "<div>\n",
       "<style scoped>\n",
       "    .dataframe tbody tr th:only-of-type {\n",
       "        vertical-align: middle;\n",
       "    }\n",
       "\n",
       "    .dataframe tbody tr th {\n",
       "        vertical-align: top;\n",
       "    }\n",
       "\n",
       "    .dataframe thead th {\n",
       "        text-align: right;\n",
       "    }\n",
       "</style>\n",
       "<table border=\"1\" class=\"dataframe\">\n",
       "  <thead>\n",
       "    <tr style=\"text-align: right;\">\n",
       "      <th></th>\n",
       "      <th>id</th>\n",
       "      <th>diagnosis</th>\n",
       "      <th>radius_mean</th>\n",
       "      <th>texture_mean</th>\n",
       "      <th>perimeter_mean</th>\n",
       "      <th>area_mean</th>\n",
       "      <th>smoothness_mean</th>\n",
       "      <th>compactness_mean</th>\n",
       "      <th>concavity_mean</th>\n",
       "      <th>concave_points_mean</th>\n",
       "      <th>...</th>\n",
       "      <th>radius_worst</th>\n",
       "      <th>texture_worst</th>\n",
       "      <th>perimeter_worst</th>\n",
       "      <th>area_worst</th>\n",
       "      <th>smoothness_worst</th>\n",
       "      <th>compactness_worst</th>\n",
       "      <th>concavity_worst</th>\n",
       "      <th>concave_points_worst</th>\n",
       "      <th>symmetry_worst</th>\n",
       "      <th>fractal_dimension_worst</th>\n",
       "    </tr>\n",
       "  </thead>\n",
       "  <tbody>\n",
       "    <tr>\n",
       "      <th>0</th>\n",
       "      <td>842302</td>\n",
       "      <td>M</td>\n",
       "      <td>17.99</td>\n",
       "      <td>10.38</td>\n",
       "      <td>122.80</td>\n",
       "      <td>1001.0</td>\n",
       "      <td>0.11840</td>\n",
       "      <td>0.27760</td>\n",
       "      <td>0.3001</td>\n",
       "      <td>0.14710</td>\n",
       "      <td>...</td>\n",
       "      <td>25.38</td>\n",
       "      <td>17.33</td>\n",
       "      <td>184.60</td>\n",
       "      <td>2019.0</td>\n",
       "      <td>0.1622</td>\n",
       "      <td>0.6656</td>\n",
       "      <td>0.7119</td>\n",
       "      <td>0.2654</td>\n",
       "      <td>0.4601</td>\n",
       "      <td>0.11890</td>\n",
       "    </tr>\n",
       "    <tr>\n",
       "      <th>1</th>\n",
       "      <td>842517</td>\n",
       "      <td>M</td>\n",
       "      <td>20.57</td>\n",
       "      <td>17.77</td>\n",
       "      <td>132.90</td>\n",
       "      <td>1326.0</td>\n",
       "      <td>0.08474</td>\n",
       "      <td>0.07864</td>\n",
       "      <td>0.0869</td>\n",
       "      <td>0.07017</td>\n",
       "      <td>...</td>\n",
       "      <td>24.99</td>\n",
       "      <td>23.41</td>\n",
       "      <td>158.80</td>\n",
       "      <td>1956.0</td>\n",
       "      <td>0.1238</td>\n",
       "      <td>0.1866</td>\n",
       "      <td>0.2416</td>\n",
       "      <td>0.1860</td>\n",
       "      <td>0.2750</td>\n",
       "      <td>0.08902</td>\n",
       "    </tr>\n",
       "    <tr>\n",
       "      <th>2</th>\n",
       "      <td>84300903</td>\n",
       "      <td>M</td>\n",
       "      <td>19.69</td>\n",
       "      <td>21.25</td>\n",
       "      <td>130.00</td>\n",
       "      <td>1203.0</td>\n",
       "      <td>0.10960</td>\n",
       "      <td>0.15990</td>\n",
       "      <td>0.1974</td>\n",
       "      <td>0.12790</td>\n",
       "      <td>...</td>\n",
       "      <td>23.57</td>\n",
       "      <td>25.53</td>\n",
       "      <td>152.50</td>\n",
       "      <td>1709.0</td>\n",
       "      <td>0.1444</td>\n",
       "      <td>0.4245</td>\n",
       "      <td>0.4504</td>\n",
       "      <td>0.2430</td>\n",
       "      <td>0.3613</td>\n",
       "      <td>0.08758</td>\n",
       "    </tr>\n",
       "    <tr>\n",
       "      <th>3</th>\n",
       "      <td>84348301</td>\n",
       "      <td>M</td>\n",
       "      <td>11.42</td>\n",
       "      <td>20.38</td>\n",
       "      <td>77.58</td>\n",
       "      <td>386.1</td>\n",
       "      <td>0.14250</td>\n",
       "      <td>0.28390</td>\n",
       "      <td>0.2414</td>\n",
       "      <td>0.10520</td>\n",
       "      <td>...</td>\n",
       "      <td>14.91</td>\n",
       "      <td>26.50</td>\n",
       "      <td>98.87</td>\n",
       "      <td>567.7</td>\n",
       "      <td>0.2098</td>\n",
       "      <td>0.8663</td>\n",
       "      <td>0.6869</td>\n",
       "      <td>0.2575</td>\n",
       "      <td>0.6638</td>\n",
       "      <td>0.17300</td>\n",
       "    </tr>\n",
       "    <tr>\n",
       "      <th>4</th>\n",
       "      <td>84358402</td>\n",
       "      <td>M</td>\n",
       "      <td>20.29</td>\n",
       "      <td>14.34</td>\n",
       "      <td>135.10</td>\n",
       "      <td>1297.0</td>\n",
       "      <td>0.10030</td>\n",
       "      <td>0.13280</td>\n",
       "      <td>0.1980</td>\n",
       "      <td>0.10430</td>\n",
       "      <td>...</td>\n",
       "      <td>22.54</td>\n",
       "      <td>16.67</td>\n",
       "      <td>152.20</td>\n",
       "      <td>1575.0</td>\n",
       "      <td>0.1374</td>\n",
       "      <td>0.2050</td>\n",
       "      <td>0.4000</td>\n",
       "      <td>0.1625</td>\n",
       "      <td>0.2364</td>\n",
       "      <td>0.07678</td>\n",
       "    </tr>\n",
       "  </tbody>\n",
       "</table>\n",
       "<p>5 rows × 32 columns</p>\n",
       "</div>"
      ],
      "text/plain": [
       "         id diagnosis  radius_mean  texture_mean  perimeter_mean  area_mean  \\\n",
       "0    842302         M        17.99         10.38          122.80     1001.0   \n",
       "1    842517         M        20.57         17.77          132.90     1326.0   \n",
       "2  84300903         M        19.69         21.25          130.00     1203.0   \n",
       "3  84348301         M        11.42         20.38           77.58      386.1   \n",
       "4  84358402         M        20.29         14.34          135.10     1297.0   \n",
       "\n",
       "   smoothness_mean  compactness_mean  concavity_mean  concave_points_mean  \\\n",
       "0          0.11840           0.27760          0.3001              0.14710   \n",
       "1          0.08474           0.07864          0.0869              0.07017   \n",
       "2          0.10960           0.15990          0.1974              0.12790   \n",
       "3          0.14250           0.28390          0.2414              0.10520   \n",
       "4          0.10030           0.13280          0.1980              0.10430   \n",
       "\n",
       "   ...  radius_worst  texture_worst  perimeter_worst  area_worst  \\\n",
       "0  ...         25.38          17.33           184.60      2019.0   \n",
       "1  ...         24.99          23.41           158.80      1956.0   \n",
       "2  ...         23.57          25.53           152.50      1709.0   \n",
       "3  ...         14.91          26.50            98.87       567.7   \n",
       "4  ...         22.54          16.67           152.20      1575.0   \n",
       "\n",
       "   smoothness_worst  compactness_worst  concavity_worst  concave_points_worst  \\\n",
       "0            0.1622             0.6656           0.7119                0.2654   \n",
       "1            0.1238             0.1866           0.2416                0.1860   \n",
       "2            0.1444             0.4245           0.4504                0.2430   \n",
       "3            0.2098             0.8663           0.6869                0.2575   \n",
       "4            0.1374             0.2050           0.4000                0.1625   \n",
       "\n",
       "   symmetry_worst  fractal_dimension_worst  \n",
       "0          0.4601                  0.11890  \n",
       "1          0.2750                  0.08902  \n",
       "2          0.3613                  0.08758  \n",
       "3          0.6638                  0.17300  \n",
       "4          0.2364                  0.07678  \n",
       "\n",
       "[5 rows x 32 columns]"
      ]
     },
     "execution_count": 2,
     "metadata": {},
     "output_type": "execute_result"
    }
   ],
   "source": [
    "import pandas as pd\n",
    "import numpy as np\n",
    "import matplotlib.pyplot as plt\n",
    "import seaborn as sns\n",
    "df=pd.read_csv(\"../input/breast-cancer-dataset/data.csv\")\n",
    "df.head()"
   ]
  },
  {
   "cell_type": "code",
   "execution_count": 3,
   "id": "749d5c86",
   "metadata": {
    "execution": {
     "iopub.execute_input": "2022-09-22T13:09:08.401744Z",
     "iopub.status.busy": "2022-09-22T13:09:08.401062Z",
     "iopub.status.idle": "2022-09-22T13:09:08.434823Z",
     "shell.execute_reply": "2022-09-22T13:09:08.433506Z"
    },
    "papermill": {
     "duration": 0.042958,
     "end_time": "2022-09-22T13:09:08.438350",
     "exception": false,
     "start_time": "2022-09-22T13:09:08.395392",
     "status": "completed"
    },
    "tags": []
   },
   "outputs": [
    {
     "name": "stdout",
     "output_type": "stream",
     "text": [
      "<class 'pandas.core.frame.DataFrame'>\n",
      "RangeIndex: 569 entries, 0 to 568\n",
      "Data columns (total 32 columns):\n",
      " #   Column                   Non-Null Count  Dtype  \n",
      "---  ------                   --------------  -----  \n",
      " 0   id                       569 non-null    int64  \n",
      " 1   diagnosis                569 non-null    object \n",
      " 2   radius_mean              569 non-null    float64\n",
      " 3   texture_mean             569 non-null    float64\n",
      " 4   perimeter_mean           569 non-null    float64\n",
      " 5   area_mean                569 non-null    float64\n",
      " 6   smoothness_mean          569 non-null    float64\n",
      " 7   compactness_mean         569 non-null    float64\n",
      " 8   concavity_mean           569 non-null    float64\n",
      " 9   concave_points_mean      569 non-null    float64\n",
      " 10  symmetry_mean            569 non-null    float64\n",
      " 11  fractal_dimension_mean   569 non-null    float64\n",
      " 12  radius_se                569 non-null    float64\n",
      " 13  texture_se               569 non-null    float64\n",
      " 14  perimeter_se             569 non-null    float64\n",
      " 15  area_se                  569 non-null    float64\n",
      " 16  smoothness_se            569 non-null    float64\n",
      " 17  compactness_se           569 non-null    float64\n",
      " 18  concavity_se             569 non-null    float64\n",
      " 19  concave_points_se        569 non-null    float64\n",
      " 20  symmetry_se              569 non-null    float64\n",
      " 21  fractal_dimension_se     569 non-null    float64\n",
      " 22  radius_worst             569 non-null    float64\n",
      " 23  texture_worst            569 non-null    float64\n",
      " 24  perimeter_worst          569 non-null    float64\n",
      " 25  area_worst               569 non-null    float64\n",
      " 26  smoothness_worst         569 non-null    float64\n",
      " 27  compactness_worst        569 non-null    float64\n",
      " 28  concavity_worst          569 non-null    float64\n",
      " 29  concave_points_worst     569 non-null    float64\n",
      " 30  symmetry_worst           569 non-null    float64\n",
      " 31  fractal_dimension_worst  569 non-null    float64\n",
      "dtypes: float64(30), int64(1), object(1)\n",
      "memory usage: 142.4+ KB\n"
     ]
    }
   ],
   "source": [
    "df.info()"
   ]
  },
  {
   "cell_type": "code",
   "execution_count": 4,
   "id": "a0c8fdfa",
   "metadata": {
    "execution": {
     "iopub.execute_input": "2022-09-22T13:09:08.449848Z",
     "iopub.status.busy": "2022-09-22T13:09:08.449418Z",
     "iopub.status.idle": "2022-09-22T13:09:08.510588Z",
     "shell.execute_reply": "2022-09-22T13:09:08.509340Z"
    },
    "papermill": {
     "duration": 0.070233,
     "end_time": "2022-09-22T13:09:08.513904",
     "exception": false,
     "start_time": "2022-09-22T13:09:08.443671",
     "status": "completed"
    },
    "tags": []
   },
   "outputs": [],
   "source": [
    "#Trying to find Outliers using percentile method.(IQR method) Here g=df.corr() of every column which dtype is not a object\n",
    "#1.5 times IQR + 75th percentile (Any Number greater than this is Outlier)\n",
    "#25th percentile - 1.5 times IQR (Any Number less than is Outlier)\n",
    "\n",
    "for i in list(df.select_dtypes(exclude='object'))[1:]:\n",
    "  g,l=np.percentile(df[i],[75,25])\n",
    "  drop_ind=df[(df[i]>(2.5*g+1.5*l))&(df[i]<(-1.5*g-0.5*l))].index\n",
    "  df.drop(drop_ind,axis=0)"
   ]
  },
  {
   "cell_type": "code",
   "execution_count": 5,
   "id": "7196fc50",
   "metadata": {
    "execution": {
     "iopub.execute_input": "2022-09-22T13:09:08.524930Z",
     "iopub.status.busy": "2022-09-22T13:09:08.524290Z",
     "iopub.status.idle": "2022-09-22T13:09:08.533880Z",
     "shell.execute_reply": "2022-09-22T13:09:08.532635Z"
    },
    "papermill": {
     "duration": 0.018506,
     "end_time": "2022-09-22T13:09:08.536830",
     "exception": false,
     "start_time": "2022-09-22T13:09:08.518324",
     "status": "completed"
    },
    "tags": []
   },
   "outputs": [],
   "source": [
    "#Here dependent col that is target column is an object type column we can encode that using OneHotEncoder or LabelEncoder which can imported from sklearn.preprocessing.\n",
    "#Here I encoded them using replace which same as using LabelEncoder\n",
    "\n",
    "\n",
    "df['diagnosis']=df['diagnosis'].replace('B',0)\n",
    "df['diagnosis']=df['diagnosis'].replace('M',1)"
   ]
  },
  {
   "cell_type": "code",
   "execution_count": 6,
   "id": "7999b7c2",
   "metadata": {
    "execution": {
     "iopub.execute_input": "2022-09-22T13:09:08.549861Z",
     "iopub.status.busy": "2022-09-22T13:09:08.549098Z",
     "iopub.status.idle": "2022-09-22T13:09:08.919782Z",
     "shell.execute_reply": "2022-09-22T13:09:08.918171Z"
    },
    "papermill": {
     "duration": 0.38032,
     "end_time": "2022-09-22T13:09:08.923485",
     "exception": false,
     "start_time": "2022-09-22T13:09:08.543165",
     "status": "completed"
    },
    "tags": []
   },
   "outputs": [],
   "source": [
    "#spliting data into train and test datasets\n",
    "\n",
    "x=df.drop('diagnosis',axis=1)\n",
    "y=df['diagnosis']\n",
    "x_train,x_test,y_train,y_test=train_test_split(x,y,test_size=0.2,random_state=1)\n",
    "\n",
    "\n",
    "#Here We try various models to find best score\n",
    "models = []\n",
    "models.append(('RandomForestRegression',RandomForestClassifier()))\n",
    "models.append(('LogisticRegression', LogisticRegression()))\n",
    "models.append(('LinearDA', LinearDiscriminantAnalysis()))\n",
    "models.append(('KNN', KNeighborsClassifier()))\n",
    "models.append(('GaussianNB', GaussianNB()))\n",
    "models.append(('SVM', SVC(gamma='auto')))\n",
    "model_scores={}\n",
    "for i,name in models:\n",
    "  model=name\n",
    "  model.fit(x_train,y_train)\n",
    "  model_scores[i]=np.mean(y_test==model.predict(x_test))"
   ]
  },
  {
   "cell_type": "code",
   "execution_count": 7,
   "id": "669e6e73",
   "metadata": {
    "execution": {
     "iopub.execute_input": "2022-09-22T13:09:08.940586Z",
     "iopub.status.busy": "2022-09-22T13:09:08.940040Z",
     "iopub.status.idle": "2022-09-22T13:09:08.948401Z",
     "shell.execute_reply": "2022-09-22T13:09:08.947161Z"
    },
    "papermill": {
     "duration": 0.022137,
     "end_time": "2022-09-22T13:09:08.952278",
     "exception": false,
     "start_time": "2022-09-22T13:09:08.930141",
     "status": "completed"
    },
    "tags": []
   },
   "outputs": [
    {
     "data": {
      "text/plain": [
       "{'RandomForestRegression': 0.9473684210526315,\n",
       " 'LogisticRegression': 0.631578947368421,\n",
       " 'LinearDA': 0.9473684210526315,\n",
       " 'KNN': 0.8333333333333334,\n",
       " 'GaussianNB': 0.631578947368421,\n",
       " 'SVM': 0.631578947368421}"
      ]
     },
     "execution_count": 7,
     "metadata": {},
     "output_type": "execute_result"
    }
   ],
   "source": [
    "model_scores"
   ]
  },
  {
   "cell_type": "code",
   "execution_count": 8,
   "id": "296f1a54",
   "metadata": {
    "execution": {
     "iopub.execute_input": "2022-09-22T13:09:08.963904Z",
     "iopub.status.busy": "2022-09-22T13:09:08.963162Z",
     "iopub.status.idle": "2022-09-22T13:09:09.212750Z",
     "shell.execute_reply": "2022-09-22T13:09:09.211838Z"
    },
    "papermill": {
     "duration": 0.25779,
     "end_time": "2022-09-22T13:09:09.214867",
     "exception": false,
     "start_time": "2022-09-22T13:09:08.957077",
     "status": "completed"
    },
    "tags": []
   },
   "outputs": [
    {
     "data": {
      "image/png": "[encoded data removed]",
      "text/plain": [
       "<Figure size 720x720 with 1 Axes>"
      ]
     },
     "metadata": {
      "needs_background": "light"
     },
     "output_type": "display_data"
    }
   ],
   "source": [
    "names=list(model_scores.keys())\n",
    "values=list(model_scores.values())\n",
    "fig,ax=plt.subplots(figsize=(10,10))\n",
    "ax=plt.bar(names,values,color='green');\n",
    "plt.xticks(rotation=90);"
   ]
  },
  {
   "cell_type": "code",
   "execution_count": 9,
   "id": "d4f6577e",
   "metadata": {
    "execution": {
     "iopub.execute_input": "2022-09-22T13:09:09.227004Z",
     "iopub.status.busy": "2022-09-22T13:09:09.225968Z",
     "iopub.status.idle": "2022-09-22T13:09:11.593715Z",
     "shell.execute_reply": "2022-09-22T13:09:11.592363Z"
    },
    "papermill": {
     "duration": 2.376585,
     "end_time": "2022-09-22T13:09:11.596267",
     "exception": false,
     "start_time": "2022-09-22T13:09:09.219682",
     "status": "completed"
    },
    "tags": []
   },
   "outputs": [
    {
     "data": {
      "image/png": "[encoded data removed]",
      "text/plain": [
       "<Figure size 720x720 with 1 Axes>"
      ]
     },
     "metadata": {
      "needs_background": "light"
     },
     "output_type": "display_data"
    }
   ],
   "source": [
    "#From Graph we can say Using RandomForestClassifier or using model LinearDA gives best score.I choose to use RandomForestClassifier and tried various n_estimators \n",
    "\n",
    "n_estimators=[10,100,200,300,400]\n",
    "score={}\n",
    "for i in n_estimators:\n",
    "    model=RandomForestClassifier(n_estimators=i)\n",
    "    model.fit(x_train,y_train)\n",
    "    y_preds=model.predict(x_test)\n",
    "    score[i]=np.mean(y_test==y_preds)\n",
    "\n",
    "#ploting the result\n",
    "names=list(score.keys())\n",
    "values=list(score.values())\n",
    "fig,ax=plt.subplots(figsize=(10,10))\n",
    "ax=plt.scatter(names,values,color='green');\n",
    "plt.xticks(rotation=90);"
   ]
  },
  {
   "cell_type": "code",
   "execution_count": 10,
   "id": "01e33f5c",
   "metadata": {
    "execution": {
     "iopub.execute_input": "2022-09-22T13:09:11.607918Z",
     "iopub.status.busy": "2022-09-22T13:09:11.607523Z",
     "iopub.status.idle": "2022-09-22T13:09:12.239453Z",
     "shell.execute_reply": "2022-09-22T13:09:12.238177Z"
    },
    "papermill": {
     "duration": 0.640757,
     "end_time": "2022-09-22T13:09:12.242121",
     "exception": false,
     "start_time": "2022-09-22T13:09:11.601364",
     "status": "completed"
    },
    "tags": []
   },
   "outputs": [
    {
     "data": {
      "text/plain": [
       "0.9473684210526315"
      ]
     },
     "execution_count": 10,
     "metadata": {},
     "output_type": "execute_result"
    }
   ],
   "source": [
    "#we can observe using 10,100,200,300 gave same score using 400 gave low score so we choose any one of the extimator\n",
    "\n",
    "final_model=RandomForestClassifier(n_estimators=300)\n",
    "final_model.fit(x_train,y_train)\n",
    "y_preds=final_model.predict(x_test)\n",
    "np.mean(y_test==y_preds)"
   ]
  },
  {
   "cell_type": "code",
   "execution_count": 11,
   "id": "9ae0310e",
   "metadata": {
    "execution": {
     "iopub.execute_input": "2022-09-22T13:09:12.255854Z",
     "iopub.status.busy": "2022-09-22T13:09:12.255449Z",
     "iopub.status.idle": "2022-09-22T13:09:12.263280Z",
     "shell.execute_reply": "2022-09-22T13:09:12.261991Z"
    },
    "papermill": {
     "duration": 0.017435,
     "end_time": "2022-09-22T13:09:12.265842",
     "exception": false,
     "start_time": "2022-09-22T13:09:12.248407",
     "status": "completed"
    },
    "tags": []
   },
   "outputs": [],
   "source": [
    "#output should be of dtype='object' so we use replace so that y_preds(output) will be of d_type='object'\n",
    "\n",
    "y_preds=pd.DataFrame(y_preds,columns=['diagnosis'])\n",
    "y_preds['diagnosis']=y_preds['diagnosis'].replace(0,'B')\n",
    "y_preds['diagnosis']=y_preds['diagnosis'].replace(1,'M')"
   ]
  },
  {
   "cell_type": "code",
   "execution_count": 12,
   "id": "3775d93a",
   "metadata": {
    "execution": {
     "iopub.execute_input": "2022-09-22T13:09:12.277983Z",
     "iopub.status.busy": "2022-09-22T13:09:12.277536Z",
     "iopub.status.idle": "2022-09-22T13:09:12.288876Z",
     "shell.execute_reply": "2022-09-22T13:09:12.287964Z"
    },
    "papermill": {
     "duration": 0.020368,
     "end_time": "2022-09-22T13:09:12.291346",
     "exception": false,
     "start_time": "2022-09-22T13:09:12.270978",
     "status": "completed"
    },
    "tags": []
   },
   "outputs": [
    {
     "data": {
      "text/html": [
       "<div>\n",
       "<style scoped>\n",
       "    .dataframe tbody tr th:only-of-type {\n",
       "        vertical-align: middle;\n",
       "    }\n",
       "\n",
       "    .dataframe tbody tr th {\n",
       "        vertical-align: top;\n",
       "    }\n",
       "\n",
       "    .dataframe thead th {\n",
       "        text-align: right;\n",
       "    }\n",
       "</style>\n",
       "<table border=\"1\" class=\"dataframe\">\n",
       "  <thead>\n",
       "    <tr style=\"text-align: right;\">\n",
       "      <th></th>\n",
       "      <th>diagnosis</th>\n",
       "    </tr>\n",
       "  </thead>\n",
       "  <tbody>\n",
       "    <tr>\n",
       "      <th>0</th>\n",
       "      <td>M</td>\n",
       "    </tr>\n",
       "    <tr>\n",
       "      <th>1</th>\n",
       "      <td>M</td>\n",
       "    </tr>\n",
       "    <tr>\n",
       "      <th>2</th>\n",
       "      <td>B</td>\n",
       "    </tr>\n",
       "    <tr>\n",
       "      <th>3</th>\n",
       "      <td>M</td>\n",
       "    </tr>\n",
       "    <tr>\n",
       "      <th>4</th>\n",
       "      <td>B</td>\n",
       "    </tr>\n",
       "  </tbody>\n",
       "</table>\n",
       "</div>"
      ],
      "text/plain": [
       "  diagnosis\n",
       "0         M\n",
       "1         M\n",
       "2         B\n",
       "3         M\n",
       "4         B"
      ]
     },
     "execution_count": 12,
     "metadata": {},
     "output_type": "execute_result"
    }
   ],
   "source": [
    "y_preds.head()"
   ]
  }
 ],
 "metadata": {
  "kernelspec": {
   "display_name": "Python 3",
   "language": "python",
   "name": "python3"
  },
  "language_info": {
   "codemirror_mode": {
    "name": "ipython",
    "version": 3
   },
   "file_extension": ".py",
   "mimetype": "text/x-python",
   "name": "python",
   "nbconvert_exporter": "python",
   "pygments_lexer": "ipython3",
   "version": "3.7.12"
  },
  "papermill": {
   "default_parameters": {},
   "duration": 15.678624,
   "end_time": "2022-09-22T13:09:13.018521",
   "environment_variables": {},
   "exception": null,
   "input_path": "__notebook__.ipynb",
   "output_path": "__notebook__.ipynb",
   "parameters": {},
   "start_time": "2022-09-22T13:08:57.339897",
   "version": "2.3.4"
  }
 },
 "nbformat": 4,
 "nbformat_minor": 5
}
